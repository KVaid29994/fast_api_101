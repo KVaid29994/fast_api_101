{
 "cells": [
  {
   "cell_type": "markdown",
   "id": "69206b0d",
   "metadata": {},
   "source": [
    "\n",
    "What is FastAPI?\n",
    "\n",
    " FastAPI is a modern, fast (high-performance) web framework for building APIs with Python 3.7+\n",
    " based on standard Python type hints. It's designed to be easy to use, fast to code, ready for\n",
    " production, and based on standards like OpenAPI and JSON Schema\n",
    "\n",
    "\n",
    " Key Features\n",
    " - Fast: Very high performance, on par with NodeJS and Go\n",
    " - Fast to code: Increase development speed by 200-300%\n",
    " - Fewer bugs: Reduce human errors by 40%\n",
    " - Intuitive: Great editor support with auto-completion\n",
    " - Easy: Designed to be easy to use and learn\n",
    " - Short: Minimize code duplication\n",
    " - Robust: Production-ready code with automatic interactive documentation\n",
    " - Standards-based: Based on OpenAPI and JSON Schem"
   ]
  },
  {
   "cell_type": "markdown",
   "id": "234e8891",
   "metadata": {},
   "source": [
    "| Method      | Purpose                                        | Idempotent? | Typical Use Case                               | FastAPI Example                |\n",
    "|-------------|------------------------------------------------|-------------|------------------------------------------------|--------------------------------|\n",
    "| **GET**     | Retrieve data                                  | ✅ Yes      | Fetch a list of resources or a single resource | `@app.get(\"/books/{isbn}\")`    |\n",
    "| **POST**    | Create new data                                | ❌ No       | Add a new resource to the collection           | `@app.post(\"/books/\")`         |\n",
    "| **PUT**     | Update/replace existing data (full update)     | ✅ Yes      | Replace an entire resource with new data       | `@app.put(\"/books/{isbn}\")`    |\n",
    "| **PATCH**   | Partial update of existing data                | ❌ No       | Update only some fields of a resource          | `@app.patch(\"/books/{isbn}\")`  |\n",
    "| **DELETE**  | Remove data                                    | ✅ Yes      | Delete a resource                              | `@app.delete(\"/books/{isbn}\")` |\n",
    "| **OPTIONS** | Ask server what methods are supported          | ✅ Yes      | Used by browsers for CORS preflight requests   | `@app.options(\"/books/\")`      |\n",
    "| **HEAD**    | Same as GET but returns only headers (no body) | ✅ Yes      | Check if resource exists / metadata            | *(rarely used directly)*       |"
   ]
  },
  {
   "cell_type": "markdown",
   "id": "57beca1b",
   "metadata": {},
   "source": []
  }
 ],
 "metadata": {
  "language_info": {
   "name": "python"
  }
 },
 "nbformat": 4,
 "nbformat_minor": 5
}
